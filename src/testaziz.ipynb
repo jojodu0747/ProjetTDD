{
 "cells": [
  {
   "cell_type": "code",
   "execution_count": null,
   "metadata": {},
   "outputs": [
    {
     "data": {
      "text/plain": [
       "[(('ARM', 1), ('USA', 139)), (('ALG', 1), ('USA', 145))]"
      ]
     },
     "execution_count": 32,
     "metadata": {},
     "output_type": "execute_result"
    }
   ],
   "source": [
    "import csv\n",
    "import os\n",
    "adresse = \"/Users/azizseghaier/Desktop/Projets/ProjetTDD/donnees_jeux_olympiques/athlete_events.csv\"\n",
    "\n",
    "ses = [\"2016 Summer\", \"2012 Summer\"]\n",
    "med = [\"Gold\"]\n",
    "res_p = {\"2016 Summer\":dict(), \"2012 Summer\":dict()}\n",
    "with open(adresse, 'r', newline='') as csvfile:\n",
    "    spamreader = csv.reader(csvfile)\n",
    "    first = True\n",
    "    for row in spamreader:\n",
    "        if first:\n",
    "            first = False\n",
    "            continue\n",
    "        if row[8] in ses and row[-1] in med and row[7] not in res_p[row[8]].keys():\n",
    "            res_p[row[8]][row[7]] = 1\n",
    "        elif row[8] in ses and row[-1] in med:\n",
    "            res_p[row[8]][row[7]] += 1\n",
    "\n",
    "res_min = {\"2016 Summer\":[], \"2012 Summer\":[]}\n",
    "res_max = {\"2016 Summer\":[], \"2012 Summer\":[]}\n",
    "\n",
    "for s in ses:\n",
    "    for noc in res_p[s].keys():\n",
    "        if len(res_min[s]) == 0:\n",
    "            res_min[s] = [noc, res_p[s][noc]]\n",
    "        elif res_p[s][noc] < res_min[s][1] or (res_p[s][noc] == res_min[s][1]\n",
    "                                               and noc < res_min[s][0]):\n",
    "            res_min[s] = [noc, res_p[s][noc]]\n",
    "        if len(res_max[s]) == 0:\n",
    "            res_max[s] = [noc, res_p[s][noc]]\n",
    "        elif res_p[s][noc] > res_max[s][1] or (res_p[s][noc] == res_max[s][1]\n",
    "                                               and noc < res_max[s][0]):\n",
    "            res_max[s] = [noc, res_p[s][noc]]\n",
    "\n",
    "res = []\n",
    "for s in ses:\n",
    "    res.append((tuple(res_min[s]), tuple(res_max[s])))\n"
   ]
  }
 ],
 "metadata": {
  "kernelspec": {
   "display_name": "Python 3",
   "language": "python",
   "name": "python3"
  },
  "language_info": {
   "codemirror_mode": {
    "name": "ipython",
    "version": 3
   },
   "file_extension": ".py",
   "mimetype": "text/x-python",
   "name": "python",
   "nbconvert_exporter": "python",
   "pygments_lexer": "ipython3",
   "version": "3.13.1"
  }
 },
 "nbformat": 4,
 "nbformat_minor": 2
}
