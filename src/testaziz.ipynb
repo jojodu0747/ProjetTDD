{
 "cells": [
  {
   "cell_type": "code",
   "execution_count": null,
   "metadata": {},
   "outputs": [],
   "source": [
    "\"ID\",\"Name\",\"Sex\",\"Age\",\"Height\",\"Weight\",\"Team\",\"NOC\",\"Games\",\"Year\",\"Season\",\"City\",\"Sport\",\"Event\",\"Medal\"\n"
   ]
  },
  {
   "cell_type": "code",
   "execution_count": null,
   "metadata": {},
   "outputs": [
    {
     "ename": "KeyError",
     "evalue": "'RUS'",
     "output_type": "error",
     "traceback": [
      "\u001b[31m---------------------------------------------------------------------------\u001b[39m",
      "\u001b[31mKeyError\u001b[39m                                  Traceback (most recent call last)",
      "\u001b[36mCell\u001b[39m\u001b[36m \u001b[39m\u001b[32mIn[128]\u001b[39m\u001b[32m, line 31\u001b[39m\n\u001b[32m     27\u001b[39m         \u001b[38;5;28;01melif\u001b[39;00m (row[\u001b[32m8\u001b[39m] \u001b[38;5;129;01min\u001b[39;00m ses \u001b[38;5;129;01mand\u001b[39;00m row[-\u001b[32m1\u001b[39m] \u001b[38;5;129;01min\u001b[39;00m med \u001b[38;5;129;01mand\u001b[39;00m\n\u001b[32m     28\u001b[39m               (row[\u001b[32m7\u001b[39m] \u001b[38;5;129;01mnot\u001b[39;00m \u001b[38;5;129;01min\u001b[39;00m med_occ[row[\u001b[32m8\u001b[39m]][row[-\u001b[32m1\u001b[39m]].keys() \n\u001b[32m     29\u001b[39m                \u001b[38;5;129;01mor\u001b[39;00m row[\u001b[32m13\u001b[39m] \u001b[38;5;129;01mnot\u001b[39;00m \u001b[38;5;129;01min\u001b[39;00m med_occ[row[\u001b[32m8\u001b[39m]][row[-\u001b[32m1\u001b[39m]][row[\u001b[32m7\u001b[39m]])):\n\u001b[32m     30\u001b[39m             res_p[row[\u001b[32m8\u001b[39m]][row[\u001b[32m7\u001b[39m]] += \u001b[32m1\u001b[39m\n\u001b[32m---> \u001b[39m\u001b[32m31\u001b[39m             \u001b[43mmed_occ\u001b[49m\u001b[43m[\u001b[49m\u001b[43mrow\u001b[49m\u001b[43m[\u001b[49m\u001b[32;43m8\u001b[39;49m\u001b[43m]\u001b[49m\u001b[43m]\u001b[49m\u001b[43m[\u001b[49m\u001b[43mrow\u001b[49m\u001b[43m[\u001b[49m\u001b[43m-\u001b[49m\u001b[32;43m1\u001b[39;49m\u001b[43m]\u001b[49m\u001b[43m]\u001b[49m\u001b[43m[\u001b[49m\u001b[43mrow\u001b[49m\u001b[43m[\u001b[49m\u001b[32;43m7\u001b[39;49m\u001b[43m]\u001b[49m\u001b[43m]\u001b[49m.append(row[\u001b[32m13\u001b[39m])\n\u001b[32m     32\u001b[39m         n_ligne += \u001b[32m1\u001b[39m\n\u001b[32m     34\u001b[39m res_min = {i:[] \u001b[38;5;28;01mfor\u001b[39;00m i \u001b[38;5;129;01min\u001b[39;00m ses}\n",
      "\u001b[31mKeyError\u001b[39m: 'RUS'"
     ]
    }
   ],
   "source": [
    "import csv\n",
    "import os\n",
    "adresse = \"/Users/azizseghaier/Desktop/Projets/ProjetTDD/donnees_jeux_olympiques/athlete_events.csv\"\n",
    "from base_dd import n_doublon\n",
    "\n",
    "ses = [\"2016 Summer\", \"1996 Summer\"]\n",
    "med = [\"Gold\", \"Silver\", \"Bronze\"]\n",
    "\n",
    "\n",
    "med_occ = {i:{j:{} for j in med} for i in ses}\n",
    "res_p = {i:dict() for i in ses}\n",
    "\n",
    "with open(adresse, 'r', newline='') as csvfile:\n",
    "    spamreader = csv.reader(csvfile)\n",
    "    first = True\n",
    "    n_ligne = 2\n",
    "    for row in spamreader:\n",
    "        if first:\n",
    "            first = False\n",
    "            continue\n",
    "        if n_ligne in n_doublon:\n",
    "            n_ligne += 1\n",
    "            continue\n",
    "        if row[8] in ses and row[-1] in med and row[7] not in res_p[row[8]].keys():\n",
    "            res_p[row[8]][row[7]] = 1\n",
    "            med_occ[row[8]][row[-1]][row[7]] = [row[13]]\n",
    "        elif (row[8] in ses and row[-1] in med and\n",
    "              (row[7] not in med_occ[row[8]][row[-1]].keys()\n",
    "               or row[13] not in med_occ[row[8]][row[-1]][row[7]])):\n",
    "            res_p[row[8]][row[7]] += 1\n",
    "            med_occ[row[8]][row[-1]][row[7]].append(row[13])\n",
    "        elif (row[8] in ses and row[-1] in med and\n",
    "              row[7] not in med_occ[row[8]][row[-1]].keys()):\n",
    "            res_p[row[8]][row[7]] += 1\n",
    "            med_occ[row[8]][row[-1]][row[7]] = [row[13]]\n",
    "        n_ligne += 1\n",
    "\n",
    "res_min = {i:[] for i in ses}\n",
    "res_max = {i:[] for i in ses}\n",
    "\n",
    "for s in ses:\n",
    "    for noc in res_p[s].keys():\n",
    "        if len(res_min[s]) == 0:\n",
    "            res_min[s] = [noc, res_p[s][noc]]\n",
    "        elif res_p[s][noc] < res_min[s][1] or (res_p[s][noc] == res_min[s][1]\n",
    "                                               and noc < res_min[s][0]):\n",
    "            res_min[s] = [noc, res_p[s][noc]]\n",
    "        if len(res_max[s]) == 0:\n",
    "            res_max[s] = [noc, res_p[s][noc]]\n",
    "        elif res_p[s][noc] > res_max[s][1] or (res_p[s][noc] == res_max[s][1]\n",
    "                                               and noc < res_max[s][0]):\n",
    "            res_max[s] = [noc, res_p[s][noc]]\n",
    "\n",
    "res = []\n",
    "for s in ses:\n",
    "    res.append((tuple(res_min[s]), tuple(res_max[s])))\n",
    "\n",
    "res\n"
   ]
  },
  {
   "cell_type": "code",
   "execution_count": null,
   "metadata": {},
   "outputs": [],
   "source": [
    "\"ID\",\"Name\",\"Sex\",\"Age\",\"Height\",\"Weight\",\"Team\",\"NOC\",\"Games\",\"Year\",\"Season\",\"City\",\"Sport\",\"Event\",\"Medal\"\n"
   ]
  },
  {
   "cell_type": "code",
   "execution_count": null,
   "metadata": {},
   "outputs": [
    {
     "data": {
      "text/plain": [
       "[(('ARM', 1), ('USA', 210)), (('AFG', 1), ('USA', 191))]"
      ]
     },
     "execution_count": 90,
     "metadata": {},
     "output_type": "execute_result"
    }
   ],
   "source": [
    "from base_dd import BDD_EVENTS, BDD_REGIONS\n",
    "\n",
    "liste_sessions = [\"2016 Summer\", \"2012 Summer\"]\n",
    "type_medaille = [\"Gold\", \"Sivler\", \"Bronze\"]\n",
    "combine=False\n",
    "\n",
    "df = BDD_EVENTS.loc[\n",
    "        BDD_EVENTS['Medal'].isin(type_medaille)\n",
    "        & BDD_EVENTS['Games'].isin(liste_sessions),\n",
    "        ['ID', 'NOC', 'Games', 'Medal']\n",
    "        ]\n",
    "if combine:\n",
    "    ag = df.groupby('NOC')['Medal'].count()\n",
    "    min = (list(ag.iloc[[ag.argmin()]].index)[0], int(ag.min()))\n",
    "    max = (list(ag.iloc[[ag.argmax()]].index)[0], int(ag.max()))\n",
    "    res = [(min, max)]\n",
    "else:\n",
    "    res = []\n",
    "    for session in liste_sessions:\n",
    "        ag = (df.loc[df['Games']\n",
    "                         == session].groupby(['NOC', 'Games'])['Medal'].count())\n",
    "        min = (list(ag.iloc[[ag.argmin()]].index)[0][0], int(ag.min()))\n",
    "        max = (list(ag.iloc[[ag.argmax()]].index)[0][0], int(ag.max()))\n",
    "        res.append((min, max))\n",
    "res"
   ]
  },
  {
   "cell_type": "code",
   "execution_count": null,
   "metadata": {},
   "outputs": [],
   "source": [
    "\"ID\",\"Name\",\"Sex\",\"Age\",\"Height\",\"Weight\",\"Team\",\"NOC\",\"Games\",\"Year\",\"Season\",\"City\",\"Sport\",\"Event\",\"Medal\"\n"
   ]
  },
  {
   "cell_type": "code",
   "execution_count": 124,
   "metadata": {},
   "outputs": [
    {
     "name": "stdout",
     "output_type": "stream",
     "text": [
      "                                                                  ID\n",
      "Event                                     Games       NOC Medal     \n",
      "Archery Men's Individual                  1996 Summer KOR Bronze   1\n",
      "                                                      SWE Silver   1\n",
      "                                                      USA Gold     1\n",
      "                                          2012 Summer CHN Bronze   1\n",
      "                                                      JPN Silver   1\n",
      "...                                                               ..\n",
      "Wrestling Women's Lightweight, Freestyle  2012 Summer JPN Gold     1\n",
      "Wrestling Women's Middleweight, Freestyle 2012 Summer CHN Silver   1\n",
      "                                                      JPN Gold     1\n",
      "                                                      MGL Bronze   1\n",
      "                                                      RUS Bronze   1\n",
      "\n",
      "[1803 rows x 1 columns]\n",
      "                  ID\n",
      "Games       NOC     \n",
      "1996 Summer ALG    3\n",
      "            ARG    3\n",
      "            ARM    2\n",
      "            AUS   41\n",
      "            AUT    3\n",
      "...              ...\n",
      "2012 Summer UGA    1\n",
      "            UKR   20\n",
      "            USA  103\n",
      "            UZB    3\n",
      "            VEN    1\n",
      "\n",
      "[164 rows x 1 columns]\n",
      "              ID\n",
      "Games           \n",
      "1996 Summer  101\n",
      "2012 Summer  103\n"
     ]
    }
   ],
   "source": [
    "from base_dd import BDD_EVENTS, BDD_REGIONS\n",
    "\n",
    "liste_sessions = [\"2012 Summer\", \"1996 Summer\"]\n",
    "type_medaille = [\"Gold\", \"Silver\", \"Bronze\"]\n",
    "combine=False\n",
    "\n",
    "df = BDD_EVENTS.loc[\n",
    "        BDD_EVENTS['Medal'].isin(type_medaille)\n",
    "        & BDD_EVENTS['Games'].isin(liste_sessions),\n",
    "        ['ID', 'NOC', 'Games', 'Event', 'Medal']\n",
    "        ]\n",
    "if combine:\n",
    "        pass\n",
    "else:\n",
    "        ag = df.groupby(['Event', 'Games', 'NOC', 'Medal']).count()\n",
    "        dg = ag.groupby(['Games', 'NOC']).count()\n",
    "\n",
    "\n",
    "\n",
    "print(ag)\n",
    "print(dg)\n",
    "print(dg.groupby('Games').max())\n",
    "ag\n",
    "ag.to_csv(\"apagnan\")\n"
   ]
  }
 ],
 "metadata": {
  "kernelspec": {
   "display_name": "Python 3",
   "language": "python",
   "name": "python3"
  },
  "language_info": {
   "codemirror_mode": {
    "name": "ipython",
    "version": 3
   },
   "file_extension": ".py",
   "mimetype": "text/x-python",
   "name": "python",
   "nbconvert_exporter": "python",
   "pygments_lexer": "ipython3",
   "version": "3.13.1"
  }
 },
 "nbformat": 4,
 "nbformat_minor": 2
}
