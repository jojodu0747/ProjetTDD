{
 "cells": [
  {
   "cell_type": "code",
   "execution_count": 2,
   "metadata": {},
   "outputs": [
    {
     "data": {
      "text/plain": [
       "['123',\n",
       " 'Sohail Abbas',\n",
       " 'M',\n",
       " '37',\n",
       " '178',\n",
       " '80',\n",
       " 'Pakistan',\n",
       " 'PAK',\n",
       " '2012 Summer',\n",
       " '2012',\n",
       " 'Summer',\n",
       " 'London',\n",
       " 'Hockey',\n",
       " \"Hockey Men's Hockey\",\n",
       " 'NA']"
      ]
     },
     "execution_count": 2,
     "metadata": {},
     "output_type": "execute_result"
    }
   ],
   "source": [
    "import csv\n",
    "import os\n",
    "adresse = \"/Users/azizseghaier/Desktop/Projets/ProjetTDD/donnees_jeux_olympiques/athlete_events.csv\"\n",
    "\n",
    "bdd = []\n",
    "with open(adresse, 'r', newline='') as csvfile:\n",
    "    spamreader = csv.reader(csvfile)\n",
    "    for row in spamreader:\n",
    "        bdd.append(row)\n",
    "bdd[250]\n"
   ]
  }
 ],
 "metadata": {
  "kernelspec": {
   "display_name": "Python 3",
   "language": "python",
   "name": "python3"
  },
  "language_info": {
   "codemirror_mode": {
    "name": "ipython",
    "version": 3
   },
   "file_extension": ".py",
   "mimetype": "text/x-python",
   "name": "python",
   "nbconvert_exporter": "python",
   "pygments_lexer": "ipython3",
   "version": "3.13.1"
  }
 },
 "nbformat": 4,
 "nbformat_minor": 2
}
